{
 "cells": [
  {
   "cell_type": "markdown",
   "metadata": {
    "collapsed": true,
    "pycharm": {
     "name": "#%% md\n"
    }
   },
   "source": [
    "Importing packages"
   ]
  },
  {
   "cell_type": "code",
   "execution_count": null,
   "outputs": [],
   "source": [
    "import numpy as np\n",
    "import pandas as pd\n",
    "import featuretools as ft\n",
    "import utils\n",
    "import os\n",
    "from utils import relative_error\n",
    "from sklearn.model_selection import train_test_split\n",
    "from sklearn.ensemble import RandomForestRegressor\n",
    "from sklearn.neural_network import MLPRegressor\n",
    "from sklearn.svm import SVR\n",
    "from sklearn import tree\n",
    "from sklearn.metrics import mean_absolute_error\n",
    "from sklearn.metrics import mean_squared_error\n"
   ],
   "metadata": {
    "collapsed": false,
    "pycharm": {
     "name": "#%%\n"
    }
   }
  },
  {
   "cell_type": "markdown",
   "source": [
    "Loading training data"
   ],
   "metadata": {
    "collapsed": false
   }
  },
  {
   "cell_type": "code",
   "execution_count": null,
   "outputs": [],
   "source": [
    "data = utils.load_data('train_FD004.txt')\n",
    "#data = utils.load_data('train_FD004_7v.txt')\n",
    "#data.head()"
   ],
   "metadata": {
    "collapsed": false,
    "pycharm": {
     "name": "#%%\n"
    }
   }
  },
  {
   "cell_type": "markdown",
   "source": [
    "Creating cutoff times"
   ],
   "metadata": {
    "collapsed": false,
    "pycharm": {
     "name": "#%% md\n"
    }
   }
  },
  {
   "cell_type": "code",
   "execution_count": null,
   "outputs": [],
   "source": [
    "cutoff_times = utils.make_cutoff_times(data)\n",
    "#cutoff_times.head()\n"
   ],
   "metadata": {
    "collapsed": false,
    "pycharm": {
     "name": "#%%\n"
    }
   }
  },
  {
   "cell_type": "markdown",
   "source": [
    "Making entitysets"
   ],
   "metadata": {
    "collapsed": false,
    "pycharm": {
     "name": "#%% md\n"
    }
   }
  },
  {
   "cell_type": "code",
   "execution_count": null,
   "outputs": [],
   "source": [
    "def make_entityset(data):\n",
    "    es = ft.EntitySet('Dataset')\n",
    "    es.entity_from_dataframe(dataframe=data,\n",
    "                             entity_id='recordings',\n",
    "                             index='index',\n",
    "                             time_index='time')\n",
    "\n",
    "    es.normalize_entity(base_entity_id='recordings',\n",
    "                        new_entity_id='engines',\n",
    "                        index='engine_no')\n",
    "\n",
    "    es.normalize_entity(base_entity_id='recordings',\n",
    "                        new_entity_id='cycles',\n",
    "                        index='time_in_cycles')\n",
    "    return es\n",
    "es = make_entityset(data)\n",
    "\n",
    "#es\n",
    "#es[\"recordings\"].variables\n",
    "#es[\"engines\"].variables\n",
    "#es[\"cycles\"].variables\n",
    "#es[\"recordings\"].df.head(5)\n",
    "#es[\"engines\"].df.head(5)\n",
    "#es[\"cycles\"].df.head(5)\n",
    "es.plot()"
   ],
   "metadata": {
    "collapsed": false,
    "pycharm": {
     "name": "#%%\n"
    }
   }
  },
  {
   "cell_type": "markdown",
   "source": [
    "Creating features"
   ],
   "metadata": {
    "collapsed": false,
    "pycharm": {
     "name": "#%% md\n"
    }
   }
  },
  {
   "cell_type": "code",
   "execution_count": null,
   "outputs": [],
   "source": [
    "fm, features = ft.dfs(entityset=es,\n",
    "                      target_entity='engines',\n",
    "                      agg_primitives=['last', 'max', 'min'],\n",
    "#                      agg_primitives=['last', 'max', 'min', 'mean', 'std'],\n",
    "                      trans_primitives=[],\n",
    "                      cutoff_time=cutoff_times,\n",
    "                      max_depth=3,\n",
    "                      verbose=True)\n",
    "fm.to_csv('simple_fm.csv')"
   ],
   "metadata": {
    "collapsed": false,
    "pycharm": {
     "name": "#%%\n"
    }
   }
  },
  {
   "cell_type": "markdown",
   "source": [
    "Splitting training data"
   ],
   "metadata": {
    "collapsed": false,
    "pycharm": {
     "name": "#%% md\n"
    }
   }
  },
  {
   "cell_type": "code",
   "execution_count": null,
   "outputs": [],
   "source": [
    "fm = pd.read_csv('simple_fm.csv', index_col='engine_no')\n",
    "X_train = fm.copy().fillna(0)\n",
    "y_train = X_train.pop('RUL')\n",
    "\n",
    "X_training, X_validating, y_training, y_validating = train_test_split(X_train, y_train, random_state=17)"
   ],
   "metadata": {
    "collapsed": false,
    "pycharm": {
     "name": "#%%\n"
    }
   }
  },
  {
   "cell_type": "markdown",
   "source": [
    "Prediction using median baseline 1 in training data"
   ],
   "metadata": {
    "collapsed": false,
    "pycharm": {
     "name": "#%% md\n"
    }
   }
  },
  {
   "cell_type": "code",
   "execution_count": null,
   "outputs": [],
   "source": [
    "medianpredict1 = [np.median(y_training) for _ in y_validating]\n",
    "print('Baseline by median label (training data): Mean Abs Error = {:.2f}'.format(\n",
    "    mean_absolute_error(medianpredict1, y_validating)))\n",
    "print('Baseline by median label (training data): Root Mean Square Error = {:.2f}'.format(np.sqrt(mean_squared_error(y_validating, medianpredict1))))\n",
    "print('Baseline by median label (training data): Relative Error = {:.2f}'.format(relative_error(y_validating.values, medianpredict1)))"
   ],
   "metadata": {
    "collapsed": false,
    "pycharm": {
     "name": "#%%\n"
    }
   }
  },
  {
   "cell_type": "markdown",
   "source": [
    "Prediction using median baseline 2 in training data"
   ],
   "metadata": {
    "collapsed": false,
    "pycharm": {
     "name": "#%% md\n"
    }
   }
  },
  {
   "cell_type": "code",
   "execution_count": null,
   "outputs": [],
   "source": [
    "#takes the rows that their engine id is selected for training\n",
    "recordings_from_train = es['recordings'].df[es['recordings'].df['engine_no'].isin(y_training.index)]\n",
    "#recordings_from_train.groupby(['engine_no']).apply(lambda df: df.shape[0]): replaces the data of each row by number of cycles of that engine\n",
    "median_life = np.median(recordings_from_train.groupby(['engine_no']).apply(lambda df: df.shape[0]))\n",
    "\n",
    "#takes the rows that their engine id is selected for testing\n",
    "recordings_from_test = es['recordings'].df[es['recordings'].df['engine_no'].isin(y_validating.index)]\n",
    "#number of cycles for the engine - RUL\n",
    "life_in_test = recordings_from_test.groupby(['engine_no']).apply(lambda df: df.shape[0])-y_validating\n",
    "\n",
    "medianpredict2 = (median_life - life_in_test).apply(lambda row: max(row, 0))\n",
    "print('Baseline by median life (training data): Mean Abs Error = {:.2f}'.format(\n",
    "    mean_absolute_error(medianpredict2, y_validating)))\n",
    "print('Baseline by median life (training data): Root Mean Square Error = {:.2f}'.format(np.sqrt(mean_squared_error(y_validating, medianpredict2))))\n",
    "print('Baseline by median life (training data): Relative Error = {:.2f}'.format(relative_error(y_validating.values, medianpredict2)))"
   ],
   "metadata": {
    "collapsed": false,
    "pycharm": {
     "name": "#%%\n"
    }
   }
  },
  {
   "cell_type": "markdown",
   "source": [
    "Prediction using RFR in training data"
   ],
   "metadata": {
    "collapsed": false,
    "pycharm": {
     "name": "#%% md\n"
    }
   }
  },
  {
   "cell_type": "code",
   "execution_count": null,
   "outputs": [],
   "source": [
    "RFRreg = RandomForestRegressor(n_estimators=100)\n",
    "RFRreg.fit(X_training, y_training)\n",
    "\n",
    "RFRpreds = RFRreg.predict(X_validating)\n",
    "print('RFR Mean Abs Error (training data): {:.2f}'.format(mean_absolute_error(RFRpreds, y_validating)))\n",
    "print('RFR Root Mean Square Error (training data): {:.2f}'.format(np.sqrt(mean_squared_error(y_validating, RFRpreds))))\n",
    "print('RFR Relative Error (training data): {:.2f}'.format(relative_error(y_validating.values, RFRpreds)))\n",
    "#high_imp_feats = utils.feature_importances(X, RFRreg, feats=10)"
   ],
   "metadata": {
    "collapsed": false,
    "pycharm": {
     "name": "#%%\n"
    }
   }
  },
  {
   "cell_type": "markdown",
   "source": [
    "Loading test data"
   ],
   "metadata": {
    "collapsed": false,
    "pycharm": {
     "name": "#%% md\n"
    }
   }
  },
  {
   "cell_type": "code",
   "execution_count": null,
   "outputs": [],
   "source": [
    "data2 = utils.load_data('test_FD004.txt')\n",
    "#data2 = utils.load_data('test_FD004_7v.txt')\n",
    "es2 = make_entityset(data2)\n",
    "fm2 = ft.calculate_feature_matrix(entityset=es2, features=features, verbose=True)\n",
    "X_test = fm2.copy().fillna(0)\n",
    "y_test = pd.read_csv('RUL_FD004.txt', sep=' ', header=-1, names=['RUL'], index_col=False)\n",
    "#fm2.head()"
   ],
   "metadata": {
    "collapsed": false,
    "pycharm": {
     "name": "#%%\n"
    }
   }
  },
  {
   "cell_type": "markdown",
   "source": [
    "Prediction using RFR in test data"
   ],
   "metadata": {
    "collapsed": false,
    "pycharm": {
     "name": "#%% md\n"
    }
   }
  },
  {
   "cell_type": "code",
   "execution_count": null,
   "outputs": [],
   "source": [
    "RFRreg.fit(X_train, y_train)\n",
    "\n",
    "RFRpreds2 = RFRreg.predict(X_test)\n",
    "print('RFR Mean Abs Error (test data): {:.2f}'.format(mean_absolute_error(RFRpreds2, y_test)))\n",
    "print('RFR Root Mean Square Error (test data): {:.2f}'.format(np.sqrt(mean_squared_error(y_test, RFRpreds2))))\n",
    "print('RFR Relative Error (test data): {:.2f}'.format(relative_error(y_test.values, RFRpreds2)))"
   ],
   "metadata": {
    "collapsed": false,
    "pycharm": {
     "name": "#%%\n"
    }
   }
  },
  {
   "cell_type": "markdown",
   "source": [
    "Prediction using median baseline 1 & 2 in test data"
   ],
   "metadata": {
    "collapsed": false,
    "pycharm": {
     "name": "#%% md\n"
    }
   }
  },
  {
   "cell_type": "code",
   "execution_count": null,
   "outputs": [],
   "source": [
    "medianpredict1 = [np.median(y_training) for _ in RFRpreds2]\n",
    "print('Baseline by median label (test data): Mean Abs Error = {:.2f}'.format(\n",
    "    mean_absolute_error(medianpredict1, y_test)))\n",
    "print('Baseline by median label (test data): Root Mean Square Error = {:.2f}'.format(np.sqrt(mean_squared_error(y_test, medianpredict1))))\n",
    "print('Baseline by median label (test data): Relative Error = {:.2f}'.format(relative_error(y_test.values, medianpredict1)))\n",
    "\n",
    "medianpredict2 = (median_life - es2['recordings'].df.groupby(['engine_no']).apply(lambda df: df.shape[0])).apply(lambda row: max(row, 0))\n",
    "print('Baseline by median life (test data): Mean Abs Error = {:.2f}'.format(\n",
    "    mean_absolute_error(medianpredict2, y_test)))\n",
    "print('Baseline by median life (test data): Root Mean Square Error = {:.2f}'.format(np.sqrt(mean_squared_error(y_test, medianpredict2))))\n",
    "print('Baseline by median life (test data): Relative Error = {:.2f}'.format(relative_error(y_test.values, medianpredict2.values)))"
   ],
   "metadata": {
    "collapsed": false,
    "pycharm": {
     "name": "#%%\n"
    }
   }
  },
  {
   "cell_type": "markdown",
   "source": [
    "Prediction using SVR in test data"
   ],
   "metadata": {
    "collapsed": false,
    "pycharm": {
     "name": "#%% md\n"
    }
   }
  },
  {
   "cell_type": "code",
   "execution_count": null,
   "outputs": [],
   "source": [
    "SVRreg=SVR(kernel='rbf',epsilon=3.0,degree=3)\n",
    "SVRreg.fit(X_train,y_train)\n",
    "\n",
    "SVRpreds=SVRreg.predict(X_test)\n",
    "print('SVR Mean Abs Error (test data): {:.2f}'.format(mean_absolute_error(SVRpreds, y_test)))\n",
    "print('SVR Root Mean Square Error (test data): {:.2f}'.format(np.sqrt(mean_squared_error(y_test, SVRpreds))))\n",
    "print('SVR Relative Error (test data): {:.2f}'.format(relative_error(y_test.values, SVRpreds)))"
   ],
   "metadata": {
    "collapsed": false,
    "pycharm": {
     "name": "#%%\n"
    }
   }
  },
  {
   "cell_type": "markdown",
   "source": [
    "Prediction using MLP in test data"
   ],
   "metadata": {
    "collapsed": false,
    "pycharm": {
     "name": "#%% md\n"
    }
   }
  },
  {
   "cell_type": "code",
   "execution_count": null,
   "outputs": [],
   "source": [
    "MLPreg=MLPRegressor(hidden_layer_sizes=(2, ), activation='relu', solver='adam', alpha=0.0001, batch_size='auto', learning_rate='constant', learning_rate_init=0.001, max_iter=4000, tol=0.0001, momentum=0.9, epsilon=1e-08)\n",
    "MLPreg.fit(X_train,y_train)\n",
    "\n",
    "MLPpreds=MLPreg.predict(X_test)\n",
    "print('MLP Mean Abs Error (test data): {:.2f}'.format(mean_absolute_error(MLPpreds, y_test)))\n",
    "print('MLP Root Mean Square Error (test data): {:.2f}'.format(np.sqrt(mean_squared_error(y_test, MLPpreds))))\n",
    "print('MLP Relative Error (test data): {:.2f}'.format(relative_error(y_test.values, MLPpreds)))"
   ],
   "metadata": {
    "collapsed": false,
    "pycharm": {
     "name": "#%%\n"
    }
   }
  },
  {
   "cell_type": "markdown",
   "source": [
    "Prediction using CART in test data"
   ],
   "metadata": {
    "collapsed": false,
    "pycharm": {
     "name": "#%% md\n"
    }
   }
  },
  {
   "cell_type": "code",
   "execution_count": null,
   "outputs": [],
   "source": [
    "CARTreg = tree.DecisionTreeRegressor()\n",
    "CARTreg.fit(X_train,y_train)\n",
    "\n",
    "CARTpreds = CARTreg.predict(X_test)\n",
    "print('CART Mean Abs Error (test data): {:.2f}'.format(mean_absolute_error(CARTpreds, y_test)))\n",
    "print('CART Root Mean Square Error (test data): {:.2f}'.format(np.sqrt(mean_squared_error(y_test, CARTpreds))))\n",
    "print('CART Relative Error (test data): {:.2f}'.format(relative_error(y_test.values, CARTpreds)))"
   ],
   "metadata": {
    "collapsed": false,
    "pycharm": {
     "name": "#%%\n"
    }
   }
  },
  {
   "cell_type": "markdown",
   "source": [
    "Saving output files"
   ],
   "metadata": {
    "collapsed": false,
    "pycharm": {
     "name": "#%% md\n"
    }
   }
  },
  {
   "cell_type": "code",
   "execution_count": null,
   "outputs": [],
   "source": [
    "try:\n",
    "    os.mkdir(\"output\")\n",
    "except:\n",
    "    pass\n",
    "\n",
    "fm.to_csv('output/simple_train_feature_matrix.csv')\n",
    "cutoff_times.to_csv('output/simple_train_label_times.csv')\n",
    "fm2.to_csv('output/simple_test_feature_matrix.csv')"
   ],
   "metadata": {
    "collapsed": false,
    "pycharm": {
     "name": "#%%\n"
    }
   }
  }
 ],
 "metadata": {
  "kernelspec": {
   "display_name": "Python 3",
   "language": "python",
   "name": "python3"
  },
  "language_info": {
   "codemirror_mode": {
    "name": "ipython",
    "version": 2
   },
   "file_extension": ".py",
   "mimetype": "text/x-python",
   "name": "python",
   "nbconvert_exporter": "python",
   "pygments_lexer": "ipython2",
   "version": "2.7.6"
  }
 },
 "nbformat": 4,
 "nbformat_minor": 0
}