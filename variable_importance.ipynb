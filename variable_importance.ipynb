{
 "cells": [
  {
   "cell_type": "markdown",
   "source": [
    "Importing packages"
   ],
   "metadata": {
    "collapsed": false
   }
  },
  {
   "cell_type": "code",
   "execution_count": null,
   "metadata": {
    "collapsed": true
   },
   "outputs": [],
   "source": [
    "import numpy as np\n",
    "from sklearn.ensemble import RandomForestRegressor\n",
    "from numpy.linalg import inv\n",
    "import matplotlib.pyplot as plt\n",
    "import pandas as pd"
   ]
  },
  {
   "cell_type": "markdown",
   "source": [
    "Loading data"
   ],
   "metadata": {
    "collapsed": false,
    "pycharm": {
     "name": "#%% md\n"
    }
   }
  },
  {
   "cell_type": "code",
   "execution_count": null,
   "outputs": [],
   "source": [
    "f = open('train_FD004.txt', 'r')\n",
    "x_train = np.array([[float(num) for num in line.split(' ') if num!='\\n' and num!=''] for line in f])\n",
    "f.close()\n",
    "#print(np.shape(x_train))"
   ],
   "metadata": {
    "collapsed": false,
    "pycharm": {
     "name": "#%%\n"
    }
   }
  },
  {
   "cell_type": "markdown",
   "source": [
    "Computing HIs with 21 variables"
   ],
   "metadata": {
    "collapsed": false,
    "pycharm": {
     "name": "#%% md\n"
    }
   }
  },
  {
   "cell_type": "code",
   "execution_count": null,
   "outputs": [],
   "source": [
    "num_traj=int(x_train[-1][0])\n",
    "N0=0.9\n",
    "y_train=np.empty((0,1))\n",
    "H=np.empty((0,1))\n",
    "#y_train=np.matrix([[np.ones((int(np.shape(x_train)[0] * N), 1))],[np.zeros(((np.shape(x_train)[0] - int(np.shape(x_train)[0] * N)), 1))]])\n",
    "for i in range(num_traj):\n",
    "    i+=1\n",
    "    count=np.sum(x_train[:,0] == i)\n",
    "    place=np.sum(x_train[:,0] <= i)\n",
    "    F=x_train[(place-count):place , 5:]\n",
    "    Soff=np.empty((0,1))\n",
    "    y_train=np.append(y_train, np.zeros((int(count * N0), 1)), axis=0)\n",
    "    y_train=np.append(y_train, np.ones((count - int(count * N0), 1)), axis=0)\n",
    "    Soff=np.append(Soff, np.zeros((int(count * N0), 1)), axis=0)\n",
    "    Soff=np.append(Soff, np.ones((count - int(count * N0), 1)), axis=0)\n",
    "    T = np.matmul(np.matmul(inv(np.matmul(F.transpose() , F)) , F.transpose()) , Soff)\n",
    "    H=np.append(H, np.matmul(F , T), axis=0)\n",
    "\n",
    "#y_train=H"
   ],
   "metadata": {
    "collapsed": false,
    "pycharm": {
     "name": "#%%\n"
    }
   }
  },
  {
   "cell_type": "markdown",
   "source": [
    "Fitting RFs"
   ],
   "metadata": {
    "collapsed": false,
    "pycharm": {
     "name": "#%% md\n"
    }
   }
  },
  {
   "cell_type": "code",
   "execution_count": null,
   "outputs": [],
   "source": [
    "X = x_train[:, 5:]\n",
    "Y = y_train\n",
    "names = ['T2', 'T24', 'T30', 'T50', 'P2', 'P15', 'P30', 'Nf', 'Nc', 'epr', 'Ps30', 'phi', 'NRf', 'NRc', 'BPR', 'farB', 'htBleed', 'Nf_dmd', 'PCNfR_dmd', 'W31', 'W32']\n",
    "rf = RandomForestRegressor()\n",
    "rf.fit(X, Y)\n",
    "print(\"Features sorted by their score:\")\n",
    "print(sorted(zip(map(lambda x: round(x, 4), rf.feature_importances_), names), reverse=True))"
   ],
   "metadata": {
    "collapsed": false,
    "pycharm": {
     "name": "#%%\n"
    }
   }
  },
  {
   "cell_type": "markdown",
   "source": [
    "Plotting variable improtance diagram with 21 variables"
   ],
   "metadata": {
    "collapsed": false,
    "pycharm": {
     "name": "#%% md\n"
    }
   }
  },
  {
   "cell_type": "code",
   "execution_count": null,
   "outputs": [],
   "source": [
    "index = np.arange(len(names))\n",
    "#plt.figure()\n",
    "df = pd.DataFrame(sorted(zip(map(lambda x: round(x, 4), rf.feature_importances_), names),reverse=True))\n",
    "df.plot.bar(legend=None)\n",
    "#plt.bar(names, rf.feature_importances_)\n",
    "plt.xlabel('Variables', fontsize=18)\n",
    "plt.ylabel('Variable importance', fontsize=18)\n",
    "plt.xticks(index, np.array(df.iloc[:, 1]), fontsize=15, rotation=15)\n",
    "plt.title('Variable importance of 21 variables', fontsize=20)\n",
    "plt.show()"
   ],
   "metadata": {
    "collapsed": false,
    "pycharm": {
     "name": "#%%\n"
    }
   }
  },
  {
   "cell_type": "markdown",
   "source": [
    "Plotting health indices diagram with 21 variables"
   ],
   "metadata": {
    "collapsed": false,
    "pycharm": {
     "name": "#%% md\n"
    }
   }
  },
  {
   "cell_type": "code",
   "execution_count": null,
   "outputs": [],
   "source": [
    "plt.figure()\n",
    "plt.plot(x_train[:, 1], H)\n",
    "plt.xlim(0, 600)\n",
    "plt.ylim(-0.5, 1.5)\n",
    "plt.xlabel('RUL (Number of Cycles)', fontsize=15)\n",
    "plt.ylabel('HI', fontsize=15)\n",
    "ax = plt.gca()\n",
    "ax.invert_xaxis()"
   ],
   "metadata": {
    "collapsed": false,
    "pycharm": {
     "name": "#%%\n"
    }
   }
  },
  {
   "cell_type": "markdown",
   "source": [
    "Finding first 7 important variables"
   ],
   "metadata": {
    "collapsed": false,
    "pycharm": {
     "name": "#%% md\n"
    }
   }
  },
  {
   "cell_type": "code",
   "execution_count": null,
   "outputs": [],
   "source": [
    "imp_var_indx= rf.feature_importances_.argsort()[-7:][::-1] + 5\n",
    "indices=np.sort(np.append(imp_var_indx, [0,1,2,3,4]))\n",
    "x_train_7v=x_train[:, indices]"
   ],
   "metadata": {
    "collapsed": false,
    "pycharm": {
     "name": "#%%\n"
    }
   }
  },
  {
   "cell_type": "markdown",
   "source": [
    "Computing HIs with 7 variables"
   ],
   "metadata": {
    "collapsed": false,
    "pycharm": {
     "name": "#%% md\n"
    }
   }
  },
  {
   "cell_type": "code",
   "execution_count": null,
   "outputs": [],
   "source": [
    "num_traj_7v=int(x_train_7v[-1][0])\n",
    "N0=0.9\n",
    "y_train_7v=np.empty((0,1))\n",
    "H_7v=np.empty((0,1))\n",
    "\n",
    "for i in range(num_traj_7v):\n",
    "    i+=1\n",
    "    count=np.sum(x_train_7v[:,0] == i)\n",
    "    place=np.sum(x_train_7v[:,0] <= i)\n",
    "    F_7v=x_train_7v[(place-count):place , 5:]\n",
    "    Soff_7v=np.empty((0,1))\n",
    "    y_train_7v=np.append(y_train_7v, np.zeros((int(count * N0), 1)), axis=0)\n",
    "    y_train_7v=np.append(y_train_7v, np.ones((count - int(count * N0), 1)), axis=0)\n",
    "    Soff_7v=np.append(Soff_7v, np.zeros((int(count * N0), 1)), axis=0)\n",
    "    Soff_7v=np.append(Soff_7v, np.ones((count - int(count * N0), 1)), axis=0)\n",
    "    T_7v = np.matmul(np.matmul(inv(np.matmul(F_7v.transpose() , F_7v)) , F_7v.transpose()) , Soff_7v)\n",
    "    H_7v=np.append(H_7v, np.matmul(F_7v , T_7v), axis=0)"
   ],
   "metadata": {
    "collapsed": false,
    "pycharm": {
     "name": "#%%\n"
    }
   }
  },
  {
   "cell_type": "markdown",
   "source": [
    "Plotting health indices diagram with 7 variables"
   ],
   "metadata": {
    "collapsed": false,
    "pycharm": {
     "name": "#%% md\n"
    }
   }
  },
  {
   "cell_type": "code",
   "execution_count": null,
   "outputs": [],
   "source": [
    "plt.figure()\n",
    "plt.plot(x_train_7v[:, 1], H_7v)\n",
    "plt.xlim(0, 600)\n",
    "plt.ylim(-0.5, 1.5)\n",
    "plt.xlabel('RUL (Number of Cycles)', fontsize=15)\n",
    "plt.ylabel('HI', fontsize=15)\n",
    "ax = plt.gca()\n",
    "ax.invert_xaxis()"
   ],
   "metadata": {
    "collapsed": false,
    "pycharm": {
     "name": "#%%\n"
    }
   }
  },
  {
   "cell_type": "markdown",
   "source": [
    "Saving training and test arrays with 7 variable in text file"
   ],
   "metadata": {
    "collapsed": false,
    "pycharm": {
     "name": "#%% md\n"
    }
   }
  },
  {
   "cell_type": "code",
   "execution_count": null,
   "outputs": [],
   "source": [
    "np.savetxt(\"train_FD004_7v.txt\",x_train_7v , fmt=\"%s\")\n",
    "\n",
    "f = open('test_FD004.txt', 'r')\n",
    "x_test = np.array([[float(num) for num in line.split(' ') if num!='\\n' and num!=''] for line in f])\n",
    "f.close()\n",
    "x_test_7v=x_test[:, indices]\n",
    "np.savetxt(\"test_FD004_7v.txt\",x_test_7v , fmt=\"%s\")"
   ],
   "metadata": {
    "collapsed": false,
    "pycharm": {
     "name": "#%%\n"
    }
   }
  }
 ],
 "metadata": {
  "kernelspec": {
   "display_name": "Python 3",
   "language": "python",
   "name": "python3"
  },
  "language_info": {
   "codemirror_mode": {
    "name": "ipython",
    "version": 2
   },
   "file_extension": ".py",
   "mimetype": "text/x-python",
   "name": "python",
   "nbconvert_exporter": "python",
   "pygments_lexer": "ipython2",
   "version": "2.7.6"
  }
 },
 "nbformat": 4,
 "nbformat_minor": 0
}