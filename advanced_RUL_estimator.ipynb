{
 "cells": [
  {
   "cell_type": "markdown",
   "source": [
    "Importing packages"
   ],
   "metadata": {
    "collapsed": false
   }
  },
  {
   "cell_type": "code",
   "execution_count": null,
   "metadata": {
    "collapsed": true,
    "pycharm": {
     "name": "#%%\n"
    }
   },
   "outputs": [],
   "source": [
    "import numpy as np\n",
    "import pandas as pd\n",
    "import featuretools as ft\n",
    "import utils\n",
    "from tqdm import tqdm\n",
    "from sklearn.cluster import KMeans\n",
    "from featuretools.primitives import make_agg_primitive\n",
    "import featuretools.variable_types as vtypes\n",
    "from tsfresh.feature_extraction.feature_calculators import (number_peaks, mean_abs_change,\n",
    "                                                            cid_ce, last_location_of_maximum, length)"
   ]
  },
  {
   "cell_type": "markdown",
   "source": [
    "Loading data"
   ],
   "metadata": {
    "collapsed": false
   }
  },
  {
   "cell_type": "code",
   "execution_count": null,
   "outputs": [],
   "source": [
    "data_path = 'train_FD004.txt'\n",
    "data = utils.load_data(data_path)\n",
    "\n",
    "data.head()\n"
   ],
   "metadata": {
    "collapsed": false,
    "pycharm": {
     "name": "#%%\n"
    }
   }
  },
  {
   "cell_type": "markdown",
   "source": [
    "Creating cutoff times"
   ],
   "metadata": {
    "collapsed": false
   }
  },
  {
   "cell_type": "code",
   "execution_count": null,
   "outputs": [],
   "source": [
    "splits = 5\n",
    "cutoff_time_list = []\n",
    "\n",
    "for i in tqdm(range(splits)):\n",
    "    cutoff_time_list.append(utils.make_cutoff_times(data))\n",
    "\n",
    "cutoff_time_list[0].head()\n"
   ],
   "metadata": {
    "collapsed": false,
    "pycharm": {
     "name": "#%%\n"
    }
   }
  },
  {
   "cell_type": "markdown",
   "source": [
    "Making entitysets"
   ],
   "metadata": {
    "collapsed": false
   }
  },
  {
   "cell_type": "code",
   "execution_count": null,
   "outputs": [],
   "source": [
    "nclusters = 50\n",
    "\n",
    "def make_entityset(data, nclusters, kmeans=None):\n",
    "    X = data[['operational_setting_1', 'operational_setting_2', 'operational_setting_3']]\n",
    "    if kmeans:\n",
    "        kmeans=kmeans\n",
    "    else:\n",
    "        kmeans = KMeans(n_clusters=nclusters).fit(X)\n",
    "    data['settings_clusters'] = kmeans.predict(X)\n",
    "\n",
    "    es = ft.EntitySet('Dataset')\n",
    "    es.entity_from_dataframe(dataframe=data,\n",
    "                             entity_id='recordings',\n",
    "                             index='index',\n",
    "                             time_index='time')\n",
    "\n",
    "    es.normalize_entity(base_entity_id='recordings',\n",
    "                        new_entity_id='engines',\n",
    "                        index='engine_no')\n",
    "\n",
    "    es.normalize_entity(base_entity_id='recordings',\n",
    "                        new_entity_id='settings_clusters',\n",
    "                        index='settings_clusters')\n",
    "\n",
    "    return es, kmeans\n",
    "es, kmeans = make_entityset(data, nclusters)\n",
    "es\n",
    "es.plot()\n"
   ],
   "metadata": {
    "collapsed": false,
    "pycharm": {
     "name": "#%%\n"
    }
   }
  },
  {
   "cell_type": "markdown",
   "source": [
    "Creating features"
   ],
   "metadata": {
    "collapsed": false
   }
  },
  {
   "cell_type": "code",
   "execution_count": null,
   "outputs": [],
   "source": [
    "Complexity = make_agg_primitive(lambda x: cid_ce(x, False),\n",
    "                              input_types=[vtypes.Numeric],\n",
    "                              return_type=vtypes.Numeric,\n",
    "                              name=\"complexity\")\n",
    "\n",
    "fm, features = ft.dfs(entityset=es,\n",
    "                      target_entity='engines',\n",
    "                      agg_primitives=['last', 'max', Complexity],\n",
    "                      trans_primitives=[],\n",
    "                      chunk_size=.26,\n",
    "                      cutoff_time=cutoff_time_list[0],\n",
    "                      max_depth=3,\n",
    "                      verbose=True)\n",
    "\n",
    "fm.to_csv('advanced_fm.csv')\n",
    "fm.head()"
   ],
   "metadata": {
    "collapsed": false,
    "pycharm": {
     "name": "#%%\n"
    }
   }
  },
  {
   "cell_type": "markdown",
   "source": [
    "Making predictions"
   ],
   "metadata": {
    "collapsed": false,
    "pycharm": {
     "name": "#%% md\n"
    }
   }
  },
  {
   "cell_type": "code",
   "execution_count": null,
   "outputs": [],
   "source": [
    "fm_list = [fm]\n",
    "splits=4\n",
    "for i in tqdm(range(1, splits)):\n",
    "    fm = ft.calculate_feature_matrix(entityset=make_entityset(data, nclusters, kmeans=kmeans)[0],\n",
    "                                     features=features,\n",
    "                                     chunk_size=.26,\n",
    "                                     cutoff_time=cutoff_time_list[i])\n",
    "    fm_list.append(fm)"
   ],
   "metadata": {
    "collapsed": false,
    "pycharm": {
     "name": "#%%\n"
    }
   }
  }
 ],
 "metadata": {
  "kernelspec": {
   "display_name": "Python 3",
   "language": "python",
   "name": "python3"
  },
  "language_info": {
   "codemirror_mode": {
    "name": "ipython",
    "version": 2
   },
   "file_extension": ".py",
   "mimetype": "text/x-python",
   "name": "python",
   "nbconvert_exporter": "python",
   "pygments_lexer": "ipython2",
   "version": "2.7.6"
  }
 },
 "nbformat": 4,
 "nbformat_minor": 0
}